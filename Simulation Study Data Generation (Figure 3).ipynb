{
 "cells": [
  {
   "cell_type": "code",
   "execution_count": 1,
   "metadata": {},
   "outputs": [],
   "source": [
    "# needed imports\n",
    "import numpy as np\n",
    "import matplotlib.pyplot as plt\n",
    "from bmd import *\n",
    "from bmd_biv import *\n",
    "import scipy.io as sio\n",
    "from numba import jit"
   ]
  },
  {
   "cell_type": "code",
   "execution_count": 2,
   "metadata": {},
   "outputs": [],
   "source": [
    "# returns n samples (input 'n') from vector ('vec') with corresponding probabilities ('ps')\n",
    "@jit(nopython=True)\n",
    "def rand_choice_nb(vec, n, ps):   \n",
    "    res = np.zeros(n) # initializes results\n",
    "    for i in range(n): # loops over samples\n",
    "        res[i] = vec[np.searchsorted(np.cumsum(ps), np.random.random(), side=\"right\")] # assigns selection to results vector\n",
    "    return res # returns results vector"
   ]
  },
  {
   "cell_type": "code",
   "execution_count": 3,
   "metadata": {},
   "outputs": [],
   "source": [
    "# f1 is 1022-pt distribution\n",
    "# pts is array of number of points tested\n",
    "# N is Monte Carlo (run) number\n",
    "\n",
    "# returns a 5-by-len(pts)-by-N array of values\n",
    "\n",
    "# first dimension is method [MBC-IA Uniform Prior, MBC-IA Jeffreys Prior, clt, MBC-BC Uniform Prior, MBC-BC Jeffreys Prior]\n",
    "# second dimension is number of sample points used\n",
    "# third dimension are along number distributions drawn (runs)\n",
    "def EMAM_data_gen_MBC(f, pts, N):\n",
    "    \n",
    "    data = np.zeros((5,len(pts),N)) # initializes data array\n",
    "    x = np.linspace(0,1,1022) # x-values of distribution\n",
    "    tm = int(np.round(np.sum(np.array([j*f[j] for j in range(len(f))])))) # index at distribution mean\n",
    "    \n",
    "    for k in range(len(pts)): # loops over points sampled (ns)\n",
    "        for i in range(N): # loops over runs\n",
    "            s = rand_choice_nb(x, int(pts[k]), f) # sample drawn from f\n",
    "            \n",
    "            md_ind_up = mdist_up(s, 10)[1] # mean posterior using MBC-IA with Uniform Prior\n",
    "            data[0][k][i] = md_ind_up[tm] # assigns posterior value at true mean to data array\n",
    "            \n",
    "            md_ind_jp = mdist_jp(s, 10)[1] # mean posterior using MBC-IA with Jeffreys Prior\n",
    "            data[1][k][i] = md_ind_jp[tm] # assigns posterior value at true mean to data array\n",
    "            \n",
    "            md_cl = mdist_cl(s, 10)[1] # mean posterior using CLT method\n",
    "            data[2][k][i] = md_cl[tm] # assigns posterior value at true mean to data array\n",
    "            \n",
    "            md_biv_up = mdist_biv_up(s, 10)[1] # mean posterior using MBC-BC with Uniform Prior\n",
    "            data[3][k][i] = md_biv_up[tm] # assigns posterior value at true mean to data array\n",
    "            \n",
    "            md_biv_jp = mdist_biv_jp(s, 10)[1] # mean posterior using MBC-IA with Jeffreys Prior\n",
    "            data[4][k][i] = md_biv_jp[tm] # assigns posterior value at true mean to data array\n",
    "        \n",
    "    return data # returns data array"
   ]
  },
  {
   "cell_type": "code",
   "execution_count": 4,
   "metadata": {},
   "outputs": [],
   "source": [
    "# f1 is 1022-pt distribution\n",
    "# pts is array of number of points tested\n",
    "# N is Monte Carlo (run) number\n",
    "\n",
    "# returns a 2-by-len(pts)-by-N array of values\n",
    "\n",
    "# first dimension is method [clt, st]\n",
    "# second dimension is number of sample points used\n",
    "# third dimension are along number distributions drawn (runs)\n",
    "def EMAM_data_gen_cltst(f, pts, N):\n",
    "    \n",
    "    data = np.zeros((2,len(pts),N)) # initializes data array\n",
    "    x = np.linspace(0,1,1022) # x-values of distribution\n",
    "    tm = int(np.round(np.sum(np.array([j*f[j] for j in range(len(f))])))) # index at distribution mean\n",
    "    \n",
    "    for k in range(len(pts)): # loops over points sampled (ns)\n",
    "        for i in range(N): # loops over runs\n",
    "            s = rand_choice_nb(x, int(pts[k]), f) # sample drawn from f\n",
    "            \n",
    "            # assigns to data output the mean posterior using the CLT method at the true mean\n",
    "            data[0][k][i] = norm.pdf(x[tm], np.mean(s), np.std(s)/np.sqrt(len(s)))\n",
    "            # assigns to data output the mean posterior using the ST method at the true mean\n",
    "            data[1][k][i] = t.pdf(x[tm], len(s)-1, np.mean(s), np.std(s)/np.sqrt(len(s)))\n",
    "        \n",
    "    return data"
   ]
  },
  {
   "cell_type": "code",
   "execution_count": 5,
   "metadata": {},
   "outputs": [],
   "source": [
    "# vector of sample sizes (N)\n",
    "ns = np.array(range(4,30+1))"
   ]
  },
  {
   "cell_type": "markdown",
   "metadata": {},
   "source": [
    "Uniform Density"
   ]
  },
  {
   "cell_type": "code",
   "execution_count": 6,
   "metadata": {},
   "outputs": [
    {
     "name": "stdout",
     "output_type": "stream",
     "text": [
      "f1 mean: 0.5\n",
      "f1 var: 0.0835\n"
     ]
    },
    {
     "data": {
      "image/png": "[encoded data removed]",
      "text/plain": [
       "<Figure size 432x288 with 1 Axes>"
      ]
     },
     "metadata": {
      "needs_background": "light"
     },
     "output_type": "display_data"
    }
   ],
   "source": [
    "# plots and displays mean and variance of uniform density\n",
    "# f1: uniform density\n",
    "x = np.linspace(0,1,1022)\n",
    "f1 = np.ones(1022)\n",
    "f1 = f1/sum(f1)\n",
    "plt.plot(x,f1)\n",
    "mean = np.round(sum([x[i]*f1[i] for i in range(1022)]),5)\n",
    "print('f1 mean:', mean)\n",
    "print('f1 var:', np.round(sum([(x[i]-mean)**2*f1[i] for i in range(1022)]),5))"
   ]
  },
  {
   "cell_type": "code",
   "execution_count": null,
   "metadata": {},
   "outputs": [],
   "source": [
    "data_f1_MBC = EMAM_data_gen_MBC(f1, ns, 100000) # calculates MBC methods results\n",
    "sio.savemat('Data/full_uniform_100k_MBC.mat', {'full_uniform_100k_MBC':data_f1_MBC}) # writes MBC results to file\n",
    "data_f1_cltst = EMAM_data_gen_cltst(f1, ns, 1000000) # calculates CLT and ST methods results\n",
    "sio.savemat('Data/full_uniform_1M_cltst.mat', {'full_uniform_1M_cltst':data_f1_cltst}) # writes CLT and ST results to file"
   ]
  },
  {
   "cell_type": "markdown",
   "metadata": {},
   "source": [
    "Centered Density"
   ]
  },
  {
   "cell_type": "code",
   "execution_count": 7,
   "metadata": {},
   "outputs": [
    {
     "name": "stdout",
     "output_type": "stream",
     "text": [
      "f2 mean: 0.5\n",
      "f2 var: 0.0239\n"
     ]
    },
    {
     "data": {
      "image/png": "[encoded data removed]",
      "text/plain": [
       "<Figure size 432x288 with 1 Axes>"
      ]
     },
     "metadata": {
      "needs_background": "light"
     },
     "output_type": "display_data"
    }
   ],
   "source": [
    "# plots and displays mean and variance of centered density\n",
    "# f2: centered density\n",
    "x = np.linspace(0,1,1022)\n",
    "f2 = [np.exp(-200*(i-0.5)**4) for i in x]\n",
    "f2 = f2/sum(f2)\n",
    "plt.plot(x,f2)\n",
    "mean = np.round(sum([x[i]*f2[i] for i in range(1022)]),5)\n",
    "print('f2 mean:', mean)\n",
    "print('f2 var:', np.round(sum([(x[i]-mean)**2*f2[i] for i in range(1022)]),5))"
   ]
  },
  {
   "cell_type": "code",
   "execution_count": null,
   "metadata": {},
   "outputs": [],
   "source": [
    "data_f2_MBC = EMAM_data_gen_MBC(f2, ns, 100000) # calculates MBC methods results\n",
    "sio.savemat('Data/full_center_100k_MBC.mat', {'full_center_100k_MBC':data_f2_MBC}) # writes MBC results to file\n",
    "data_f2_cltst = EMAM_data_gen_cltst(f2, ns, 1000000) # calculates CLT and ST methods results\n",
    "sio.savemat('Data/full_center_1M_cltst.mat', {'full_center_1M_cltst':data_f2_cltst}) # writes CLT and ST results to file"
   ]
  },
  {
   "cell_type": "markdown",
   "metadata": {},
   "source": [
    "Decay Density"
   ]
  },
  {
   "cell_type": "code",
   "execution_count": 8,
   "metadata": {},
   "outputs": [
    {
     "name": "stdout",
     "output_type": "stream",
     "text": [
      "f3 mean: 0.16458\n",
      "f3 var: 0.0239\n"
     ]
    },
    {
     "data": {
      "image/png": "[encoded data removed]",
      "text/plain": [
       "<Figure size 432x288 with 1 Axes>"
      ]
     },
     "metadata": {
      "needs_background": "light"
     },
     "output_type": "display_data"
    }
   ],
   "source": [
    "# plots and displays mean and variance of decay density\n",
    "# f3: decay density\n",
    "x = np.linspace(0,1,1022)\n",
    "f3 = [np.exp(-0.0026115*(i-0.5+8.5)**4) for i in x]\n",
    "f3 = f3/sum(f3)\n",
    "plt.plot(x,f3)\n",
    "mean = np.round(sum([x[i]*f3[i] for i in range(1022)]),5)\n",
    "print('f3 mean:', mean)\n",
    "print('f3 var:', np.round(sum([(x[i]-mean)**2*f3[i] for i in range(1022)]),5))"
   ]
  },
  {
   "cell_type": "code",
   "execution_count": null,
   "metadata": {},
   "outputs": [],
   "source": [
    "data_f3_MBC = EMAM_data_gen_MBC(f3, ns, 100000) # calculates MBC methods results\n",
    "sio.savemat('Data/full_decay_100k_MBC.mat', {'full_decay_100k_MBC':data_f3_MBC}) # writes MBC results to file\n",
    "data_f3_cltst = EMAM_data_gen_cltst(f3, ns, 1000000) # calculates CLT and ST methods results\n",
    "sio.savemat('Data/full_decay_1M_cltst.mat', {'full_decay_1M_cltst':data_f3_cltst}) # writes CLT and ST results to file"
   ]
  },
  {
   "cell_type": "markdown",
   "metadata": {},
   "source": [
    "Whacky Density"
   ]
  },
  {
   "cell_type": "code",
   "execution_count": 9,
   "metadata": {},
   "outputs": [
    {
     "name": "stdout",
     "output_type": "stream",
     "text": [
      "f4 mean: 0.53429\n",
      "f4 var: 0.06241\n"
     ]
    },
    {
     "data": {
      "image/png": "[encoded data removed]",
      "text/plain": [
       "<Figure size 432x288 with 1 Axes>"
      ]
     },
     "metadata": {
      "needs_background": "light"
     },
     "output_type": "display_data"
    }
   ],
   "source": [
    "# plots and displays mean and variance of whacky density\n",
    "# f4: whacky density\n",
    "x = np.linspace(0,1,1022)\n",
    "f4 = [np.exp(-(5*(i-1/8))**4)+4*np.exp(-(5*(i-3/8))**4)+2*np.exp(-(5*(i-5/8))**4)+3*np.exp(-(5*(i-7/8))**4) for i in x] # Let's stick with this one!\n",
    "f4 = f4/sum(f4)\n",
    "plt.plot(x,f4)\n",
    "mean = np.round(sum([x[i]*f4[i] for i in range(1022)]),5)\n",
    "print('f4 mean:', mean)\n",
    "print('f4 var:', np.round(sum([(x[i]-mean)**2*f4[i] for i in range(1022)]),5))"
   ]
  },
  {
   "cell_type": "code",
   "execution_count": null,
   "metadata": {},
   "outputs": [],
   "source": [
    "data_f4_MBC = EMAM_data_gen_MBC(f4, ns, 100000) # calculates MBC methods results\n",
    "sio.savemat('Data/full_whacky_100k_MBC.mat', {'full_whacky_100k_MBC':data_f4_MBC}) # writes MBC results to file\n",
    "data_f4_cltst = EMAM_data_gen_cltst(f4, ns, 1000000) # calculates CLT and ST methods results\n",
    "sio.savemat('Data/full_whacky_1M_cltst.mat', {'full_whacky_1M_cltst':data_f4_cltst}) # writes CLT and ST results to file"
   ]
  },
  {
   "cell_type": "code",
   "execution_count": null,
   "metadata": {},
   "outputs": [],
   "source": []
  }
 ],
 "metadata": {
  "kernelspec": {
   "display_name": "Python 3",
   "language": "python",
   "name": "python3"
  },
  "language_info": {
   "codemirror_mode": {
    "name": "ipython",
    "version": 3
   },
   "file_extension": ".py",
   "mimetype": "text/x-python",
   "name": "python",
   "nbconvert_exporter": "python",
   "pygments_lexer": "ipython3",
   "version": "3.7.1"
  }
 },
 "nbformat": 4,
 "nbformat_minor": 4
}
